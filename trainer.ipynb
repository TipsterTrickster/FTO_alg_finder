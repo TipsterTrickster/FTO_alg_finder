{
 "cells": [
  {
   "cell_type": "code",
   "execution_count": 2,
   "metadata": {},
   "outputs": [],
   "source": [
    "import fc_trainer\n",
    "import alg_gen\n",
    "import subprocess\n",
    "import random\n",
    "\n",
    "import importlib\n",
    "\n",
    "importlib.reload(fc_trainer)\n",
    "\n",
    "from fc_trainer import FirstCenter\n",
    "fc = FirstCenter()\n",
    "\n",
    "from alg_gen import AlgGen\n",
    "ag = AlgGen()"
   ]
  },
  {
   "cell_type": "code",
   "execution_count": 4,
   "metadata": {},
   "outputs": [
    {
     "data": {
      "text/plain": [
       "[('{F, BR}', \"L D BR' D' R\", 5),\n",
       " ('{F, BR}', \"L D' BL' D R\", 5),\n",
       " ('{F, BR}', \"L' D BL L' R\", 5),\n",
       " ('{U, F}', \"L BL' D' B' R' L\", 6),\n",
       " ('{U, BR}', \"F B' D BL' L R\", 6),\n",
       " ('{F, BR}', \"F L F' R' D R'\", 6),\n",
       " ('{F, BR}', \"F R' F' L D R\", 6),\n",
       " ('{F,U}', \"B D F' D' L U'\", 6),\n",
       " ('{F,U}', \"B D' BR' D L U'\", 6),\n",
       " ('{F,U}', \"B L U' L D L'\", 6),\n",
       " ('{F,U}', \"B' D BR B' L U'\", 6),\n",
       " ('{F, BL}', \"R B U L D' L'\", 6),\n",
       " ('{F, BL}', \"R D BR' B U R'\", 6),\n",
       " ('{F, BL}', \"R D BL' D' B U\", 6),\n",
       " ('{F, BL}', \"R D' F' D B U\", 6),\n",
       " ('{F, BL}', \"R U BR' R D' R\", 6),\n",
       " ('{BR, U}', \"BR B' L R' U' R\", 6),\n",
       " ('{BR, U}', \"BR' D BL D' L B\", 6),\n",
       " ('{BR, U}', \"BR' BL D' B' L B'\", 6),\n",
       " ('{BR, BL}', \"BL L' R B' BR' R'\", 6)]"
      ]
     },
     "execution_count": 4,
     "metadata": {},
     "output_type": "execute_result"
    }
   ],
   "source": [
    "scramble = \"B' D B' R D' B R D U' B U' B R' B L U B' D' L R' BR R L' U' BL B BL\"\n",
    "solutions = fc.generate_solutions_twizzle(scramble, count=5)\n",
    "\n",
    "sorted(solutions, key= lambda x : x[2])[:20]"
   ]
  },
  {
   "cell_type": "code",
   "execution_count": 52,
   "metadata": {},
   "outputs": [],
   "source": [
    "import csv\n",
    "\n",
    "solutions = []\n",
    "\n",
    "with open(\"FTO_FC.csv\", 'r') as f:\n",
    "    for line in f.readlines():\n",
    "        solutions.append((line.split(',')[0], int(line.split(',')[1][1])))\n"
   ]
  },
  {
   "cell_type": "code",
   "execution_count": null,
   "metadata": {},
   "outputs": [],
   "source": [
    "\n"
   ]
  },
  {
   "cell_type": "code",
   "execution_count": 122,
   "metadata": {},
   "outputs": [
    {
     "name": "stdout",
     "output_type": "stream",
     "text": [
      "U L' R' BL BR D' R' U' B BR\n"
     ]
    }
   ],
   "source": [
    "movecount = 4\n",
    "case = random.sample(list(filter(lambda x: x[1] == movecount, solutions)), 1)[0]\n",
    "\n",
    "with open(\"./twizzle/first_center.scr\", 'w') as f:\n",
    "        f.write(\"ScrambleAlg FC\\n\")\n",
    "        f.write(f\"{case[0]}\\n\")\n",
    "        f.write(\"End\\n\")\n",
    "\n",
    "twsearch_path = \"/home/aedan/Desktop/cubing/twsearch/build/bin/twsearch\"\n",
    "\n",
    "p = subprocess.Popen(f\"{twsearch_path} -M 8096 -c 1 --mindepth 10 --quiet --randomstart twizzle/FTO_FC.tws twizzle/first_center.scr\", shell = True, stdout=subprocess.PIPE)\n",
    "\n",
    "pOut = p.communicate()\n",
    "p.kill()\n",
    "\n",
    "pOut = pOut[0].decode().split(\"\\n\")[1:-2]\n",
    "pOut = [x.strip() for x in pOut if \"found\" not in x.lower()]\n",
    "\n",
    "print(invert(pOut[0]))"
   ]
  },
  {
   "cell_type": "code",
   "execution_count": 118,
   "metadata": {},
   "outputs": [
    {
     "data": {
      "text/plain": [
       "\"BL B BR R'\""
      ]
     },
     "execution_count": 118,
     "metadata": {},
     "output_type": "execute_result"
    }
   ],
   "source": [
    "invert(case[0])"
   ]
  },
  {
   "cell_type": "code",
   "execution_count": 90,
   "metadata": {},
   "outputs": [],
   "source": [
    "# unwiden algs written with BRw and Dw moves\n",
    "def unwiden(case):\n",
    "    start_centers = [\"Dw\", \"D\", \"R\", \"BL\", \"BR\", \"BRw\", \"F\", \"B\"]\n",
    "    current_centers = [\"U\", \"D\", \"R\", \"BL\", \"BR\", \"L\", \"F\", \"B\"]\n",
    "\n",
    "    new_case = \"\"\n",
    "    case.strip()\n",
    "\n",
    "    for move in case.split(\" \"):\n",
    "        suffix = \"\"\n",
    "        if \"'\" in move:\n",
    "            move = move.removesuffix(\"'\")\n",
    "            suffix = \"'\"\n",
    "        \n",
    "        if move == \"BRw\"  and suffix != \"'\":\n",
    "            current_centers[0], current_centers[3], current_centers[6] = current_centers[6], current_centers[0], current_centers[3]\n",
    "            current_centers[2], current_centers[7], current_centers[1] = current_centers[1], current_centers[2], current_centers[7]\n",
    "            new_case += \" \" + current_centers[start_centers.index(move)] + suffix\n",
    "        elif move == \"Dw\" and suffix == \"'\":\n",
    "            current_centers[2], current_centers[5], current_centers[7] = current_centers[7], current_centers[2], current_centers[5]\n",
    "            current_centers[3], current_centers[4], current_centers[6] = current_centers[6], current_centers[3], current_centers[4]\n",
    "            new_case += \" \" + current_centers[start_centers.index(move)] + suffix\n",
    "        elif move == \"BRw\" and suffix == \"'\":\n",
    "            current_centers[0], current_centers[3], current_centers[6] = current_centers[3], current_centers[6], current_centers[0]\n",
    "            current_centers[2], current_centers[7], current_centers[1] = current_centers[7], current_centers[1], current_centers[2]\n",
    "            new_case += \" \" + current_centers[start_centers.index(move)] + suffix\n",
    "        elif move == \"Dw\" and suffix != \"'\":\n",
    "            current_centers[2], current_centers[5], current_centers[7] = current_centers[5], current_centers[7], current_centers[2]\n",
    "            current_centers[3], current_centers[4], current_centers[6] = current_centers[4], current_centers[6], current_centers[3]\n",
    "            new_case += \" \" + current_centers[start_centers.index(move)] + suffix\n",
    "        else:\n",
    "            new_case += \" \" + current_centers[start_centers.index(move)] + suffix\n",
    "    \n",
    "    return new_case.strip()\n",
    "\n",
    "def invert(case):\n",
    "    inverted = []\n",
    "    for move in case.split()[::-1]:\n",
    "        if \"'\" in move:\n",
    "            inverted.append(move.removesuffix(\"'\"))\n",
    "        else:\n",
    "            inverted.append(move + \"'\")\n",
    "\n",
    "    return ' '.join(inverted)"
   ]
  },
  {
   "cell_type": "code",
   "execution_count": 88,
   "metadata": {},
   "outputs": [
    {
     "data": {
      "text/plain": [
       "\"R B' U' F' R'\""
      ]
     },
     "execution_count": 88,
     "metadata": {},
     "output_type": "execute_result"
    }
   ],
   "source": [
    "\n"
   ]
  }
 ],
 "metadata": {
  "kernelspec": {
   "display_name": ".venv",
   "language": "python",
   "name": "python3"
  },
  "language_info": {
   "codemirror_mode": {
    "name": "ipython",
    "version": 3
   },
   "file_extension": ".py",
   "mimetype": "text/x-python",
   "name": "python",
   "nbconvert_exporter": "python",
   "pygments_lexer": "ipython3",
   "version": "3.12.3"
  }
 },
 "nbformat": 4,
 "nbformat_minor": 2
}
