{
 "cells": [
  {
   "cell_type": "code",
   "execution_count": 1,
   "metadata": {},
   "outputs": [],
   "source": [
    "import bensisco\n",
    "import alg_gen\n",
    "import importlib\n",
    "import pyperclip\n",
    "\n",
    "importlib.reload(bensisco)\n",
    "importlib.reload(alg_gen)\n",
    "\n",
    "from bensisco import StepSolvers, Transformations\n",
    "from alg_gen import AlgGen"
   ]
  },
  {
   "cell_type": "code",
   "execution_count": 2,
   "metadata": {},
   "outputs": [],
   "source": [
    "# scramble = \"L R' D R' L B R B F' R F' R' F R L F' R' F L R' L' F R' L' BR B BL F L' BL\"\n",
    "\n",
    "ss = StepSolvers()\n",
    "trans = Transformations()\n",
    "alg_gen = AlgGen()\n",
    "\n",
    "# trans.CIF2EIF(scramble)\n",
    "# scrambles = trans.generate_variations(trans.CIF2EIF(scramble)) # format scramble\n",
    "# scrambles = [trans.widen(s) for s in scrambles]"
   ]
  },
  {
   "cell_type": "code",
   "execution_count": 293,
   "metadata": {},
   "outputs": [],
   "source": [
    "fcs = []\n",
    "for scram in scrambles:\n",
    "    fcs.append((0, scram, \"\"))"
   ]
  },
  {
   "cell_type": "code",
   "execution_count": 4,
   "metadata": {},
   "outputs": [
    {
     "data": {
      "text/plain": [
       "268"
      ]
     },
     "execution_count": 4,
     "metadata": {},
     "output_type": "execute_result"
    }
   ],
   "source": [
    "fcs = ss.firstcenter(scrambles, 0, 8)\n",
    "len(fcs)"
   ]
  },
  {
   "cell_type": "code",
   "execution_count": 294,
   "metadata": {},
   "outputs": [
    {
     "data": {
      "text/plain": [
       "79139"
      ]
     },
     "execution_count": 294,
     "metadata": {},
     "output_type": "execute_result"
    }
   ],
   "source": [
    "fbs = ss.firstblock_fast(fcs, 5, 11, 11)\n",
    "len(fbs)"
   ]
  },
  {
   "cell_type": "code",
   "execution_count": 295,
   "metadata": {},
   "outputs": [
    {
     "data": {
      "text/plain": [
       "405500"
      ]
     },
     "execution_count": 295,
     "metadata": {},
     "output_type": "execute_result"
    }
   ],
   "source": [
    "ecs = ss.e_centers(fbs, 7, 28, 20)\n",
    "len(ecs)"
   ]
  },
  {
   "cell_type": "code",
   "execution_count": 418,
   "metadata": {},
   "outputs": [
    {
     "data": {
      "text/plain": [
       "121"
      ]
     },
     "execution_count": 418,
     "metadata": {},
     "output_type": "execute_result"
    }
   ],
   "source": [
    "fins = ss.finish(ecs, 0, 32, 8)\n",
    "# fins = ss.finish([(5, \"R U R' U'\", \"R U R' U'\", \"R U R' U'\", \"R U R' U' R U R' U' R U R' U'\")], 0, 8)\n",
    "len(fins)"
   ]
  },
  {
   "cell_type": "code",
   "execution_count": null,
   "metadata": {},
   "outputs": [],
   "source": [
    "sorted(fins, key= lambda x : x[0])"
   ]
  },
  {
   "cell_type": "code",
   "execution_count": 234,
   "metadata": {},
   "outputs": [],
   "source": [
    "with open(\"ds5.txt\", 'w') as f:\n",
    "    solutions = sorted(fins, key= lambda x : x[0])\n",
    "    for s in solutions:\n",
    "        f.write(str(s) + \"\\n\")"
   ]
  },
  {
   "cell_type": "code",
   "execution_count": 422,
   "metadata": {},
   "outputs": [
    {
     "data": {
      "text/plain": [
       "66"
      ]
     },
     "execution_count": 422,
     "metadata": {},
     "output_type": "execute_result"
    }
   ],
   "source": [
    "alg = sorted(fins, key= lambda x : x[0])[12]\n",
    "alg = f\"{alg[1]} {alg[3]} {alg[4]}\"\n",
    "# alg = \"f' U f' U R f' U f F U' L U F' U' F U F U' L' F' U F U BR' f BL' u f u' BR' L' U R F' L U' BL L' BL' u' F' BR u U' F' U' F u' U F U F u' F' u' F'\"\n",
    "pyperclip.copy(alg_gen.EIF2CIF(alg_gen.unwiden(alg)))\n",
    "i += 1\n",
    "i - 1\n"
   ]
  },
  {
   "cell_type": "code",
   "execution_count": 475,
   "metadata": {},
   "outputs": [],
   "source": [
    "# fins = sorted(fins, key= lambda x : x[0])\n",
    "# fins\n",
    "# pyperclip.copy([fins[12], fins[44], fins[45]])\n",
    "# fins.pop(0)\n",
    "# fins.pop(3)\n",
    "# i = 0\n"
   ]
  },
  {
   "cell_type": "code",
   "execution_count": 476,
   "metadata": {},
   "outputs": [],
   "source": [
    "ranked_fins = []\n",
    "# fins.append((26, \"u BR F BR' F u BR' u' U' F BR F' BR' U F U F U BR' F U F BR' L' u F R L R' U\", \"u f' R' BR U BR' BL' f\", \"BL u' BR U BL\", \"F' U' F U F u U F' U' F u U\", \"R\"))\n",
    "for fin in fins:\n",
    "    score = 0\n",
    "    \n",
    "    scr = alg_gen.EIF2CIF(alg_gen.unwiden(fin[1]))\n",
    "\n",
    "    try:\n",
    "        buf = alg_gen.rank_algs([fin[2]], \"P\")\n",
    "        fc = (buf[0][0], buf[0][1])\n",
    "        score += float(buf[0][2])\n",
    "    except:\n",
    "        fc = \"\"\n",
    "\n",
    "    try:\n",
    "        buf = alg_gen.rank_algs([fin[3]], \"P\")\n",
    "        fb = (buf[0][0], buf[0][1])\n",
    "        score += float(buf[0][2])\n",
    "    except:\n",
    "        fb = \"\"\n",
    "\n",
    "    try:\n",
    "        buf = alg_gen.rank_e_centers(fin[4])\n",
    "        ec = buf[0]\n",
    "        score += float(buf[1])\n",
    "    except:\n",
    "        ec = \"\"\n",
    "\n",
    "    try:\n",
    "        buf = alg_gen.rank_algs([fin[5]], \"P\")\n",
    "        fn = (buf[0][0], buf[0][1])\n",
    "        score += float(buf[0][2])\n",
    "    except:\n",
    "        fn = \"\"\n",
    "    \n",
    "    ranked_fins.append((score, fc, fb, ec, fn))"
   ]
  },
  {
   "cell_type": "code",
   "execution_count": null,
   "metadata": {},
   "outputs": [],
   "source": [
    "sorted(ranked_fins, key= lambda x : x[0])\n",
    "# alg_gen.rank_e_centers(\"U' F u U' F' U F U' F u F U' F U'\")"
   ]
  },
  {
   "cell_type": "code",
   "execution_count": null,
   "metadata": {},
   "outputs": [],
   "source": [
    "sorted(fins, key= lambda x : x[0])"
   ]
  },
  {
   "cell_type": "code",
   "execution_count": 12,
   "metadata": {},
   "outputs": [],
   "source": [
    "scramble2 = \"R' D' B L R' D B D BR' B BR R B BR R BR' R B' R' BR' B' R' B' BR' BL R BR D BR R' F\"\n",
    "\n",
    "trans.CIF2EIF(scramble2)\n",
    "scrambles2 = trans.generate_variations(trans.CIF2EIF(scramble2)) # format scramble\n",
    "scrambles2 = [trans.widen(s) for s in scrambles2]\n",
    "\n",
    "\n",
    "fcs2 = []\n",
    "for scram in scrambles2:\n",
    "    fcs2.append((0, scram, \"\"))\n",
    "\n",
    "fbs2 = ss.firstblock_fast(fcs2, 5, 11, 11)\n",
    "ecs2 = ss.e_centers(fbs2, 7, 28, 20)\n",
    "fins2 = ss.finish(ecs2, 0, 8)"
   ]
  },
  {
   "cell_type": "code",
   "execution_count": 3,
   "metadata": {},
   "outputs": [],
   "source": [
    "dings = []\n",
    "with open(\"test.txt\", 'r') as f:\n",
    "    for line in f.readlines():\n",
    "        dings.append(line.removesuffix(\"\\n\"))"
   ]
  },
  {
   "cell_type": "code",
   "execution_count": null,
   "metadata": {},
   "outputs": [],
   "source": [
    "alg_gen.rank_algs(dings)"
   ]
  }
 ],
 "metadata": {
  "kernelspec": {
   "display_name": ".venv",
   "language": "python",
   "name": "python3"
  },
  "language_info": {
   "codemirror_mode": {
    "name": "ipython",
    "version": 3
   },
   "file_extension": ".py",
   "mimetype": "text/x-python",
   "name": "python",
   "nbconvert_exporter": "python",
   "pygments_lexer": "ipython3",
   "version": "3.12.0"
  }
 },
 "nbformat": 4,
 "nbformat_minor": 2
}
